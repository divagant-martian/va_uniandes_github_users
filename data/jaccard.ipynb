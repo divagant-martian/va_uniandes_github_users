{
 "cells": [
  {
   "cell_type": "code",
   "execution_count": 1,
   "metadata": {
    "collapsed": true
   },
   "outputs": [],
   "source": [
    "import requests as r\n",
    "import pandas as pd\n",
    "from datetime import datetime \n",
    "import shutil"
   ]
  },
  {
   "cell_type": "code",
   "execution_count": 2,
   "metadata": {
    "collapsed": true
   },
   "outputs": [],
   "source": [
    "data = pd.read_pickle('./data.pkl')\n",
    "\n",
    "data['known_langs'] = data.repos_info.map(lambda l: {x['language'] for x in l} - {None})\n",
    "data['starred_langs'] = data.starred_info.map(lambda l: {x['language'] for x in l} - {None})\n",
    "\n",
    "data['all_langs'] = data[['known_langs', 'starred_langs']].apply(lambda x: x['known_langs'].union(x['starred_langs']), axis=1)\n",
    "data['all_langs'] -= {'JavaScript', 'CSS', 'HTML'}\n",
    "data['all_langs'] = data.all_langs.transform(lambda s: s.union({'JavaScript/HTML'}))"
   ]
  },
  {
   "cell_type": "code",
   "execution_count": 3,
   "metadata": {
    "collapsed": true
   },
   "outputs": [],
   "source": [
    "langs_data = data.all_langs"
   ]
  },
  {
   "cell_type": "code",
   "execution_count": 4,
   "metadata": {
    "collapsed": true
   },
   "outputs": [],
   "source": [
    "matrix_intesection = pd.DataFrame(index=langs_data.index)\n",
    "matrix_union = pd.DataFrame(index=langs_data.index)\n",
    "\n",
    "for x in langs_data.index:\n",
    "    langs = langs_data[x]\n",
    "    matrix_intesection[x] = langs_data.map(lambda x: x.intersection(langs))\n",
    "    matrix_union[x] = langs_data.map(lambda x: x.union(langs))"
   ]
  },
  {
   "cell_type": "code",
   "execution_count": 5,
   "metadata": {
    "collapsed": true
   },
   "outputs": [],
   "source": [
    "jaccard = matrix_intesection.applymap(len) / matrix_union.applymap(len)"
   ]
  },
  {
   "cell_type": "code",
   "execution_count": 53,
   "metadata": {
    "collapsed": true
   },
   "outputs": [],
   "source": [
    "links = []\n",
    "for i in range(len(jaccard)):\n",
    "    for j in range(i+1, len(jaccard)):\n",
    "        ind = jaccard.index[i]\n",
    "        col = jaccard.index[j]\n",
    "        links.append({'source': ind, 'target': col, 'value': float(jaccard.loc[ind][col]), 'key': ind + col if ind <= col else col + ind})"
   ]
  },
  {
   "cell_type": "code",
   "execution_count": 7,
   "metadata": {
    "collapsed": true
   },
   "outputs": [],
   "source": [
    "data['age'] = (datetime.today() - pd.to_datetime(data.created_at)).dt.days"
   ]
  },
  {
   "cell_type": "code",
   "execution_count": 8,
   "metadata": {
    "collapsed": true
   },
   "outputs": [],
   "source": [
    "def get_image(url, name):\n",
    "    resp = r.get(url, stream=True)\n",
    "    resp.raw.decode_content = True\n",
    "    ext = resp.headers['Content-Type'].split('/')[-1]\n",
    "    name = name + '.' + ('png' if ext == 'gif' else ext)\n",
    "    shutil.copyfileobj(resp.raw, open(name, 'wb'))\n",
    "    return name[7:]"
   ]
  },
  {
   "cell_type": "code",
   "execution_count": 9,
   "metadata": {
    "collapsed": true
   },
   "outputs": [],
   "source": [
    "data['image_url'] = data[['avatar_url']].reset_index().apply(lambda x: get_image(x[1], '../img/' + x[0]), axis=1).tolist()"
   ]
  },
  {
   "cell_type": "code",
   "execution_count": 96,
   "metadata": {
    "collapsed": true
   },
   "outputs": [],
   "source": [
    "def similars(s):\n",
    "    return list(s.sort_values().drop(s.name).iloc[-2:].index)"
   ]
  },
  {
   "cell_type": "code",
   "execution_count": 97,
   "metadata": {},
   "outputs": [],
   "source": [
    "data['most_similar'] = jaccard.apply(similars, axis=1)"
   ]
  },
  {
   "cell_type": "code",
   "execution_count": 98,
   "metadata": {
    "collapsed": true
   },
   "outputs": [],
   "source": [
    "nodes = data[['name', 'all_langs', 'age', 'image_url', 'most_similar']].reset_index().rename(columns={'index': 'id'})"
   ]
  },
  {
   "cell_type": "code",
   "execution_count": 99,
   "metadata": {
    "collapsed": true
   },
   "outputs": [],
   "source": [
    "nodes['all_langs'] = nodes['all_langs'].map(list)"
   ]
  },
  {
   "cell_type": "code",
   "execution_count": 100,
   "metadata": {
    "collapsed": true
   },
   "outputs": [],
   "source": [
    "nodes['group'] = nodes['all_langs'].map(len)"
   ]
  },
  {
   "cell_type": "code",
   "execution_count": 101,
   "metadata": {
    "collapsed": true
   },
   "outputs": [],
   "source": [
    "nodes = nodes.to_dict(orient='records')"
   ]
  },
  {
   "cell_type": "code",
   "execution_count": 102,
   "metadata": {
    "collapsed": true
   },
   "outputs": [],
   "source": [
    "final_data = {'nodes': nodes, 'links': links}"
   ]
  },
  {
   "cell_type": "code",
   "execution_count": 103,
   "metadata": {
    "collapsed": true
   },
   "outputs": [],
   "source": [
    "from json import dump\n",
    "dump(final_data, open('../data/data.json', 'w'))"
   ]
  },
  {
   "cell_type": "code",
   "execution_count": null,
   "metadata": {
    "collapsed": true
   },
   "outputs": [],
   "source": []
  },
  {
   "cell_type": "code",
   "execution_count": null,
   "metadata": {
    "collapsed": true
   },
   "outputs": [],
   "source": []
  }
 ],
 "metadata": {
  "kernelspec": {
   "display_name": "Python 3",
   "language": "python",
   "name": "python3"
  },
  "language_info": {
   "codemirror_mode": {
    "name": "ipython",
    "version": 3
   },
   "file_extension": ".py",
   "mimetype": "text/x-python",
   "name": "python",
   "nbconvert_exporter": "python",
   "pygments_lexer": "ipython3",
   "version": "3.6.2"
  }
 },
 "nbformat": 4,
 "nbformat_minor": 2
}
